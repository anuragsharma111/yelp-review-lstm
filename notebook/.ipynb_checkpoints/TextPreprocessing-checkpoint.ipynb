{
 "cells": [
  {
   "cell_type": "code",
   "execution_count": 3,
   "metadata": {
    "collapsed": true
   },
   "outputs": [],
   "source": [
    "import pandas as pd\n",
    "import csv\n",
    "import re\n",
    "import json"
   ]
  },
  {
   "cell_type": "code",
   "execution_count": 4,
   "metadata": {
    "collapsed": true
   },
   "outputs": [],
   "source": [
    "from nltk import tokenize\n",
    "import torchwordemb\n",
    "from nltk.corpus import stopwords"
   ]
  },
  {
   "cell_type": "code",
   "execution_count": 5,
   "metadata": {
    "collapsed": true
   },
   "outputs": [],
   "source": [
    "from torch.autograd import Variable\n",
    "import torch"
   ]
  },
  {
   "cell_type": "code",
   "execution_count": 6,
   "metadata": {
    "collapsed": false
   },
   "outputs": [],
   "source": [
    "vocab, vec = torchwordemb.load_glove_text(\"../data/glove.6B.50d.txt\")\n",
    "embedding_size = 50"
   ]
  },
  {
   "cell_type": "code",
   "execution_count": 7,
   "metadata": {
    "collapsed": false
   },
   "outputs": [],
   "source": [
    "tokenizer = tokenize.RegexpTokenizer(r\"\\w+\")\n",
    "stops = stopwords.words(\"english\")\n",
    "def text_clean(sentence):\n",
    "    words = tokenizer.tokenize(sentence)\n",
    "    words = [w.lower() for w in words if not w in stops]\n",
    "    return words"
   ]
  },
  {
   "cell_type": "code",
   "execution_count": 8,
   "metadata": {
    "collapsed": false
   },
   "outputs": [],
   "source": [
    "def text2tensor(review_text, embedding_size=300):\n",
    "    sentences = tokenize.sent_tokenize(review_text)\n",
    "    sentensors = list()\n",
    "    for sentence in sentences:\n",
    "        words = text_clean(sentence)\n",
    "        sentensor = torch.zeros(len(words), embedding_size)\n",
    "        if len(sentensor.size()) == 0:\n",
    "            continue\n",
    "        for i, word in enumerate(words):\n",
    "            word = word.lower()\n",
    "            word_idx = vocab.get(word, None)\n",
    "            if word_idx is not None:\n",
    "                sentensor[i] = vec[word_idx]\n",
    "        sentensors.append(sentensor)\n",
    "    return sentensors"
   ]
  },
  {
   "cell_type": "code",
   "execution_count": 9,
   "metadata": {
    "collapsed": false
   },
   "outputs": [],
   "source": [
    "filename = \"../data/toy_review.json\"\n",
    "with open(filename, \"r\") as f:\n",
    "    d = list()\n",
    "    for line in f:\n",
    "        data = json.loads(line)\n",
    "        d.append((text2tensor(data['text'].replace(\"\\n\",\"\"),  embedding_size), data['stars']))"
   ]
  },
  {
   "cell_type": "code",
   "execution_count": 11,
   "metadata": {
    "collapsed": false
   },
   "outputs": [],
   "source": [
    "with open(\"../data/clean.pkl\", \"wb\") as g:\n",
    "    torch.save(d, g)"
   ]
  },
  {
   "cell_type": "code",
   "execution_count": 74,
   "metadata": {
    "collapsed": true
   },
   "outputs": [],
   "source": [
    "with open(\"../data/clean.pkl\", \"rb\") as h:\n",
    "    p = torch.load(h)"
   ]
  }
 ],
 "metadata": {
  "kernelspec": {
   "display_name": "Python 3",
   "language": "python",
   "name": "python3"
  },
  "language_info": {
   "codemirror_mode": {
    "name": "ipython",
    "version": 3
   },
   "file_extension": ".py",
   "mimetype": "text/x-python",
   "name": "python",
   "nbconvert_exporter": "python",
   "pygments_lexer": "ipython3",
   "version": "3.6.0"
  }
 },
 "nbformat": 4,
 "nbformat_minor": 2
}
